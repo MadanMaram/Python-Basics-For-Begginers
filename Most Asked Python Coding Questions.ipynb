{
 "cells": [
  {
   "cell_type": "code",
   "execution_count": null,
   "metadata": {},
   "outputs": [],
   "source": [
    "https://github.com/TanuAgrawal123/100DaysOfCode/tree/master/PythonPractice"
   ]
  },
  {
   "cell_type": "markdown",
   "metadata": {},
   "source": [
    "## palindrome"
   ]
  },
  {
   "cell_type": "code",
   "execution_count": 2,
   "metadata": {
    "scrolled": true
   },
   "outputs": [
    {
     "name": "stdout",
     "output_type": "stream",
     "text": [
      "enter the string:sai\n",
      "reverse string: ias\n",
      "string is not palindrome\n"
     ]
    }
   ],
   "source": [
    "#string is palindrome or not\n",
    "\n",
    "string  = input(\"enter the string:\")\n",
    "rev_string = string[::-1]\n",
    "print('reverse string:',rev_string)\n",
    "if string == rev_string:\n",
    "    print('string is palindrome')\n",
    "else:\n",
    "    print('string is not palindrome')"
   ]
  },
  {
   "cell_type": "code",
   "execution_count": 21,
   "metadata": {},
   "outputs": [
    {
     "name": "stdout",
     "output_type": "stream",
     "text": [
      "enter a number:575\n",
      "reverse string: 575\n",
      "string is palindrome\n"
     ]
    }
   ],
   "source": [
    "# number is palindrome or not\n",
    "\n",
    "number = int(input('enter a number:'))\n",
    "string  = str(number)#here we want to convert int to sring , because string has no slice option\n",
    "rev_string = string[::-1]\n",
    "print('reverse string:',rev_string)\n",
    "if string == rev_string:\n",
    "    print('string is palindrome')\n",
    "else:\n",
    "    print('string is not palindrome')"
   ]
  },
  {
   "cell_type": "markdown",
   "metadata": {},
   "source": [
    "## Fibonacci Numbers:"
   ]
  },
  {
   "cell_type": "code",
   "execution_count": 1,
   "metadata": {},
   "outputs": [
    {
     "name": "stdout",
     "output_type": "stream",
     "text": [
      "enter how many numbers you want in this series:6\n",
      "0\n",
      "1\n",
      "1\n",
      "2\n",
      "3\n",
      "5\n",
      "8\n"
     ]
    }
   ],
   "source": [
    "n = int(input('enter how many numbers you want in this series:'))\n",
    "\n",
    "first = 0\n",
    "second = 1\n",
    "for i in range(0,n+1):\n",
    "    print(first)\n",
    "    temp = first\n",
    "    first = second\n",
    "    second = temp+second"
   ]
  },
  {
   "cell_type": "code",
   "execution_count": 4,
   "metadata": {},
   "outputs": [
    {
     "name": "stdout",
     "output_type": "stream",
     "text": [
      "7\n",
      "0,1,1,2,3,5,8,13\n"
     ]
    }
   ],
   "source": [
    "def f(n):\n",
    "    if n==0:\n",
    "        return 0\n",
    "    elif n==1:\n",
    "        return 1\n",
    "    else :\n",
    "        return f(n-1)+f(n-2)\n",
    "n = int(input())\n",
    "values = [str(f(x)) for x in range(0,n+1)]\n",
    "print(','.join(values))"
   ]
  },
  {
   "cell_type": "markdown",
   "metadata": {},
   "source": [
    "## Factorial"
   ]
  },
  {
   "cell_type": "code",
   "execution_count": 55,
   "metadata": {},
   "outputs": [
    {
     "name": "stdout",
     "output_type": "stream",
     "text": [
      "enter the number:5\n",
      "factorial of 5 is 120\n"
     ]
    }
   ],
   "source": [
    "n = int(input('enter the number:'))\n",
    "result = 1\n",
    "for i in range(n,0,-1):\n",
    "    result = result*i\n",
    "print('factorial of',n,'is',result)"
   ]
  },
  {
   "cell_type": "code",
   "execution_count": null,
   "metadata": {},
   "outputs": [],
   "source": [
    "5*4*3*2*1"
   ]
  },
  {
   "cell_type": "markdown",
   "metadata": {},
   "source": [
    "## Prime Numbers\n",
    "\n",
    "A prime number is a natural number greater than 1 that has no positive divisors other than 1 and itself. The first few prime numbers are {2, 3, 5, 7, 11, ….}."
   ]
  },
  {
   "cell_type": "code",
   "execution_count": 4,
   "metadata": {},
   "outputs": [
    {
     "name": "stdout",
     "output_type": "stream",
     "text": [
      "enter a number:7\n",
      "7 is a prime number\n"
     ]
    }
   ],
   "source": [
    "num = int(input('enter a number:'))\n",
    "if num > 1:\n",
    "    for i in range(2,num):\n",
    "        if (num%i) != 0:\n",
    "            print(num,\"is a prime number\")\n",
    "            break\n",
    "    else:\n",
    "        print(num,'is not a prime number')\n",
    "else:\n",
    "    print(num,'is a prime number')"
   ]
  },
  {
   "cell_type": "code",
   "execution_count": 4,
   "metadata": {},
   "outputs": [
    {
     "name": "stdout",
     "output_type": "stream",
     "text": [
      "Prime numbers between 1 and 15 are:\n",
      "2 is a prime number\n",
      "3 is a prime number\n",
      "5 is a prime number\n",
      "7 is a prime number\n",
      "11 is a prime number\n",
      "13 is a prime number\n"
     ]
    }
   ],
   "source": [
    "lower = 1\n",
    "upper = 15\n",
    "\n",
    "print(\"Prime numbers between\", lower, \"and\", upper, \"are:\")\n",
    "\n",
    "for num in range(lower, upper + 1):\n",
    "    # all prime numbers are greater than 1\n",
    "    if num > 1:\n",
    "        for i in range(2,num):\n",
    "            if (num%i) == 0:\n",
    "                \n",
    "                break\n",
    "        else:\n",
    "            print(num,'is a prime number')\n"
   ]
  },
  {
   "cell_type": "markdown",
   "metadata": {},
   "source": [
    "## Counting the lower case and upper case letters in python"
   ]
  },
  {
   "cell_type": "code",
   "execution_count": 1,
   "metadata": {},
   "outputs": [
    {
     "name": "stdout",
     "output_type": "stream",
     "text": [
      "Lower case characters:  8\n",
      "Upper case characters:  3\n"
     ]
    }
   ],
   "source": [
    "s = \"The Geek King\"\n",
    "l,u = 0,0\n",
    "for i in s: \n",
    "    if (i>='a'and i<='z'): \n",
    "        l=l+1                  #counting lower case \n",
    "    if (i>='A'and i<='Z'): \n",
    "        u=u+1                  #counting upper case \n",
    "print('Lower case characters: ',l) \n",
    "print('Upper case characters: ',u) "
   ]
  },
  {
   "cell_type": "code",
   "execution_count": 14,
   "metadata": {},
   "outputs": [
    {
     "name": "stdout",
     "output_type": "stream",
     "text": [
      "Upper case letters: 3\n"
     ]
    }
   ],
   "source": [
    "s = 'My Name is Madan'\n",
    "upper = 0\n",
    "\n",
    "for i in s:\n",
    "    if (i>='A' and i<='Z'):\n",
    "        upper = upper+1\n",
    "print('Upper case letters:',upper)\n",
    "    "
   ]
  },
  {
   "cell_type": "code",
   "execution_count": 8,
   "metadata": {
    "scrolled": true
   },
   "outputs": [
    {
     "name": "stdout",
     "output_type": "stream",
     "text": [
      "Lower case letters: 10\n"
     ]
    }
   ],
   "source": [
    "s1 = 'My name Is Madan'\n",
    "lower = 0\n",
    "for i in s1:\n",
    "    if (i>='a' and i<='z'):\n",
    "        lower = lower+1\n",
    "print('Lower case letters:',lower)"
   ]
  },
  {
   "cell_type": "markdown",
   "metadata": {},
   "source": [
    "##  to count words in a sentence"
   ]
  },
  {
   "cell_type": "code",
   "execution_count": 12,
   "metadata": {},
   "outputs": [
    {
     "name": "stdout",
     "output_type": "stream",
     "text": [
      "The original string is:-  count the words in a sentence\n",
      "The number of words in string are :  6\n"
     ]
    }
   ],
   "source": [
    "sentence = 'count the words in a sentence'\n",
    "print (\"The original string is:- \" , sentence)\n",
    "word = len(sentence.split())\n",
    "print(\"The number of words in string are : \" ,word)"
   ]
  },
  {
   "cell_type": "markdown",
   "metadata": {},
   "source": [
    "##  Write a Python Program to Check if a Number is an Armstrong Number?\n"
   ]
  },
  {
   "cell_type": "markdown",
   "metadata": {},
   "source": [
    "\n",
    "153 = 1*1*1 + 5*5*5 + 3*3*3  // 153 is an Armstrong number"
   ]
  },
  {
   "cell_type": "code",
   "execution_count": 3,
   "metadata": {},
   "outputs": [
    {
     "name": "stdout",
     "output_type": "stream",
     "text": [
      "0\n",
      "1\n",
      "2\n",
      "3\n",
      "4\n",
      "5\n",
      "6\n",
      "7\n",
      "8\n",
      "9\n",
      "153\n",
      "370\n",
      "371\n",
      "407\n"
     ]
    }
   ],
   "source": [
    "\n",
    "for i in range(500):\n",
    "    num = i\n",
    "    result = 0\n",
    "    n = len(str(i))\n",
    "    while(i!=0):\n",
    "        digit=i%10\n",
    "        result=result+digit**n\n",
    "        i=i//10\n",
    "    if num==result:\n",
    "        print(num)\n",
    "        "
   ]
  },
  {
   "cell_type": "markdown",
   "metadata": {},
   "source": [
    "## Write a Python Program to Find the Largest Number in a List?"
   ]
  },
  {
   "cell_type": "code",
   "execution_count": 18,
   "metadata": {},
   "outputs": [
    {
     "data": {
      "text/plain": [
       "32"
      ]
     },
     "execution_count": 18,
     "metadata": {},
     "output_type": "execute_result"
    }
   ],
   "source": [
    "a = [10,20,30,3,4,21,32,2]\n",
    "a.sort()\n",
    "a[-1]"
   ]
  },
  {
   "cell_type": "code",
   "execution_count": 8,
   "metadata": {},
   "outputs": [
    {
     "name": "stdout",
     "output_type": "stream",
     "text": [
      "Largest element is: 99\n"
     ]
    }
   ],
   "source": [
    "# Python program to find largest \n",
    "# number in a list \n",
    "  \n",
    "def myMax(list1): \n",
    "  \n",
    "    # Assume first number in list is largest \n",
    "    # initially and assign it to variable \"max\" \n",
    "    maxi = list1[0] \n",
    "   \n",
    "    # Now traverse through the list and compare  \n",
    "    # each number with \"max\" value. Whichever is  \n",
    "    # largest assign that value to \"max'. \n",
    "    for x in list1: \n",
    "        if x > maxi : \n",
    "             maxi = x \n",
    "      \n",
    "    # after complete traversing the list  \n",
    "    # return the \"max\" value \n",
    "    return maxi\n",
    "  \n",
    "  \n",
    "# Driver code \n",
    "list1 = [10, 20, 4, 45, 99] \n",
    "print(\"Largest element is:\", myMax(list1)) "
   ]
  },
  {
   "cell_type": "code",
   "execution_count": 17,
   "metadata": {},
   "outputs": [
    {
     "name": "stdout",
     "output_type": "stream",
     "text": [
      "the biggest number is: 98\n"
     ]
    }
   ],
   "source": [
    "def bignum(lists):\n",
    "    big = lists[0]\n",
    "    \n",
    "    for i in lists:\n",
    "        if i > big:\n",
    "            big = i\n",
    "    return big\n",
    "\n",
    "lists = [10,23,98,32,55,87]\n",
    "print('the biggest number is:',bignum(lists))"
   ]
  },
  {
   "cell_type": "code",
   "execution_count": 18,
   "metadata": {},
   "outputs": [
    {
     "data": {
      "text/plain": [
       "87"
      ]
     },
     "execution_count": 18,
     "metadata": {},
     "output_type": "execute_result"
    }
   ],
   "source": [
    "lists = [10,23,98,32,55,87]\n",
    "l=max(lists[::-2])\n",
    "l"
   ]
  },
  {
   "cell_type": "code",
   "execution_count": null,
   "metadata": {},
   "outputs": [],
   "source": []
  },
  {
   "cell_type": "markdown",
   "metadata": {},
   "source": [
    "## Write a Python Program to Find the Second Largest Number in a List?"
   ]
  },
  {
   "cell_type": "code",
   "execution_count": 19,
   "metadata": {},
   "outputs": [
    {
     "data": {
      "text/plain": [
       "30"
      ]
     },
     "execution_count": 19,
     "metadata": {},
     "output_type": "execute_result"
    }
   ],
   "source": [
    "a = [10,20,30,3,4,21,32,2]\n",
    "a.sort()\n",
    "a[-2]"
   ]
  },
  {
   "cell_type": "code",
   "execution_count": null,
   "metadata": {},
   "outputs": [],
   "source": []
  },
  {
   "cell_type": "code",
   "execution_count": null,
   "metadata": {},
   "outputs": [],
   "source": [
    "Python program to convert Celsius to Fahrenheit\n",
    "Python program to find sum of n natural numbers\n",
    "Python program to add digits of a number\n",
    "Python program to add subtract multiply and divide two numbers\n",
    "Python program to swap two numbers"
   ]
  },
  {
   "cell_type": "markdown",
   "metadata": {},
   "source": [
    "## Write a Python Program to Count the Number of Vowels in a String?"
   ]
  },
  {
   "cell_type": "code",
   "execution_count": 23,
   "metadata": {},
   "outputs": [
    {
     "name": "stdout",
     "output_type": "stream",
     "text": [
      "sai\n",
      "vowels count: 2\n"
     ]
    }
   ],
   "source": [
    "\n",
    "vowels='aeiou'\n",
    "#Set up a count variable initialize to 0\n",
    "count=0\n",
    "#Check if each character of input string belong to vowel string. If yes increment the count\n",
    "string=input()\n",
    "for s in string:\n",
    "    if s in vowels: \n",
    "        count=count+1\n",
    "        \n",
    "print('vowels count:',count)"
   ]
  },
  {
   "cell_type": "code",
   "execution_count": 14,
   "metadata": {},
   "outputs": [
    {
     "name": "stdout",
     "output_type": "stream",
     "text": [
      "consonants count: 3\n"
     ]
    }
   ],
   "source": [
    "#consonants i used not in to find consonants\n",
    "vowels='aeiou'\n",
    "#Set up a count variable initialize to 0\n",
    "count=0\n",
    "#Check if each character of input string belong to vowel string. If yes increment the count\n",
    "string='madan'\n",
    "for s in string:\n",
    "    if s not in vowels: \n",
    "        count=count+1\n",
    "        \n",
    "print('consonants count:',count)"
   ]
  },
  {
   "cell_type": "markdown",
   "metadata": {},
   "source": [
    "## Python Program to Count the Number of  Vowel & Consonants"
   ]
  },
  {
   "cell_type": "code",
   "execution_count": null,
   "metadata": {},
   "outputs": [],
   "source": [
    "# Python Program to Count Vowels and Consonants in a String\n",
    "\n",
    "str1 = input(\"Please Enter Your Own String : \")\n",
    "vowels = 0\n",
    "consonants = 0\n",
    "\n",
    "for i in str1:\n",
    "    if(i == 'a' or i == 'e' or i == 'i' or i == 'o' or i == 'u'\n",
    "       or i == 'A' or i == 'E' or i == 'I' or i == 'O' or i == 'U'):\n",
    "        vowels = vowels + 1\n",
    "    else:\n",
    "        consonants = consonants + 1\n",
    " \n",
    "print(\"Total Number of Vowels in this String = \", vowels)\n",
    "print(\"Total Number of Consonants in this String = \", consonants)"
   ]
  },
  {
   "cell_type": "code",
   "execution_count": null,
   "metadata": {},
   "outputs": [],
   "source": [
    "# Python Program to Count Vowels and Consonants in a String\n",
    "\n",
    "str1 = input(\"Please Enter Your Own String : \")\n",
    "vowels = 0\n",
    "consonants = 0\n",
    "str1.lower()\n",
    "\n",
    "for i in str1:\n",
    "    if(ord(i) == 65 or ord(i) == 69 or ord(i) == 73\n",
    "       or ord(i) == 79 or ord(i) == 85\n",
    "       or ord(i) == 97 or ord(i) == 101 or ord(i) == 105\n",
    "       or ord(i) == 111 or ord(i) == 117):\n",
    "        vowels = vowels + 1\n",
    "    elif((ord(i) >= 97 and ord(i) <= 122) or (ord(i) >= 65 and ord(i) <= 90)):\n",
    "        consonants = consonants + 1\n",
    " \n",
    "print(\"Total Number of Vowels in this String = \", vowels)\n",
    "print(\"Total Number of Consonants in this String = \", consonants)"
   ]
  },
  {
   "cell_type": "markdown",
   "metadata": {},
   "source": [
    "# count no of even and odd numbers in a list"
   ]
  },
  {
   "cell_type": "code",
   "execution_count": 7,
   "metadata": {},
   "outputs": [
    {
     "name": "stdout",
     "output_type": "stream",
     "text": [
      "even numbers: 6\n",
      "odd numbers: 8\n"
     ]
    }
   ],
   "source": [
    "num = [2,4,3,4,3,4,34,5,3,6,3,5,3,3]\n",
    "even = 0\n",
    "odd = 0\n",
    "for i in num:\n",
    "    if i % 2 == 0:\n",
    "        even+=1\n",
    "    else:\n",
    "        odd+=1\n",
    "        \n",
    "        \n",
    "print('even numbers:',even)\n",
    "print('odd numbers:',odd)"
   ]
  },
  {
   "cell_type": "code",
   "execution_count": 8,
   "metadata": {},
   "outputs": [
    {
     "name": "stdout",
     "output_type": "stream",
     "text": [
      "even numbers: 6\n",
      "odd numbers: 8\n"
     ]
    }
   ],
   "source": [
    "num = [2,4,3,4,3,4,34,5,3,6,3,5,3,3]\n",
    "even = 0\n",
    "odd = 0\n",
    "for i in num:\n",
    "    if i % 2 == 0:\n",
    "        even+=1\n",
    "    else:\n",
    "        odd+=1\n",
    "        \n",
    "        \n",
    "print('even numbers:',even)\n",
    "print('odd numbers:',odd)"
   ]
  },
  {
   "cell_type": "markdown",
   "metadata": {},
   "source": [
    "# fizz buzz"
   ]
  },
  {
   "cell_type": "code",
   "execution_count": 12,
   "metadata": {
    "collapsed": true
   },
   "outputs": [
    {
     "name": "stdout",
     "output_type": "stream",
     "text": [
      "fizz\n",
      "fizzbuzz\n",
      "fizzbuzz\n",
      "fizzbuzz\n",
      "fizzbuzz\n",
      "buzz\n",
      "fizzbuzz\n",
      "fizzbuzz\n",
      "fizzbuzz\n",
      "fizzbuzz\n",
      "buzz\n",
      "fizzbuzz\n",
      "fizzbuzz\n",
      "fizzbuzz\n",
      "fizzbuzz\n",
      "fizz\n",
      "fizzbuzz\n",
      "fizzbuzz\n",
      "fizzbuzz\n",
      "fizzbuzz\n",
      "buzz\n",
      "fizzbuzz\n",
      "fizzbuzz\n",
      "fizzbuzz\n",
      "fizzbuzz\n",
      "buzz\n",
      "fizzbuzz\n",
      "fizzbuzz\n",
      "fizzbuzz\n",
      "fizzbuzz\n",
      "fizz\n",
      "fizzbuzz\n",
      "fizzbuzz\n",
      "fizzbuzz\n",
      "fizzbuzz\n",
      "buzz\n",
      "fizzbuzz\n",
      "fizzbuzz\n",
      "fizzbuzz\n",
      "fizzbuzz\n",
      "buzz\n",
      "fizzbuzz\n",
      "fizzbuzz\n",
      "fizzbuzz\n",
      "fizzbuzz\n",
      "fizz\n",
      "fizzbuzz\n",
      "fizzbuzz\n",
      "fizzbuzz\n",
      "fizzbuzz\n",
      "buzz\n"
     ]
    }
   ],
   "source": [
    "for x in range(51):\n",
    "    if x % 3 == 0 and x % 5:\n",
    "        print('fizzbuzz')\n",
    "    elif x % 3 == 0:\n",
    "        print('fizz')\n",
    "    elif x % 5 == 0:\n",
    "        print('buzz')\n",
    "    else:\n",
    "        print('fizzbuzz')"
   ]
  },
  {
   "cell_type": "code",
   "execution_count": 24,
   "metadata": {},
   "outputs": [
    {
     "data": {
      "text/plain": [
       "'fizz'"
      ]
     },
     "execution_count": 24,
     "metadata": {},
     "output_type": "execute_result"
    }
   ],
   "source": [
    "def fizzbuzz(input):\n",
    "    if input % 3 == 0:\n",
    "        result = 'fizz'\n",
    "    else:\n",
    "        result = 'buzz'\n",
    "    return result\n",
    "fizzbuzz(3)"
   ]
  },
  {
   "cell_type": "code",
   "execution_count": null,
   "metadata": {},
   "outputs": [],
   "source": [
    "def fizzbuzz():\n",
    "    if "
   ]
  },
  {
   "cell_type": "code",
   "execution_count": null,
   "metadata": {},
   "outputs": [],
   "source": []
  },
  {
   "cell_type": "code",
   "execution_count": null,
   "metadata": {},
   "outputs": [],
   "source": []
  },
  {
   "cell_type": "code",
   "execution_count": null,
   "metadata": {},
   "outputs": [],
   "source": []
  },
  {
   "cell_type": "code",
   "execution_count": null,
   "metadata": {},
   "outputs": [],
   "source": []
  },
  {
   "cell_type": "code",
   "execution_count": 26,
   "metadata": {},
   "outputs": [
    {
     "name": "stdout",
     "output_type": "stream",
     "text": [
      "[0, 1, 4, 6, 9]\n"
     ]
    }
   ],
   "source": [
    "list = [\"1\", \"4\", \"0\", \"6\", \"9\"]\n",
    "list = [int(i) for i in list]\n",
    "list.sort()\n",
    "print (list)"
   ]
  },
  {
   "cell_type": "code",
   "execution_count": 21,
   "metadata": {},
   "outputs": [
    {
     "name": "stdout",
     "output_type": "stream",
     "text": [
      "[4 3 1]\n"
     ]
    }
   ],
   "source": [
    "import numpy as np\n",
    "arr = np.array([1, 3, 2, 4, 5])\n",
    "print(arr.argsort()[-3:][::-1])"
   ]
  },
  {
   "cell_type": "code",
   "execution_count": 20,
   "metadata": {},
   "outputs": [
    {
     "data": {
      "text/plain": [
       "[5, 4, 2]"
      ]
     },
     "execution_count": 20,
     "metadata": {},
     "output_type": "execute_result"
    }
   ],
   "source": [
    "a = ([1, 3, 2, 4, 5])\n",
    "b = (a [-3:][::-1])\n",
    "b"
   ]
  },
  {
   "cell_type": "code",
   "execution_count": 22,
   "metadata": {},
   "outputs": [
    {
     "name": "stdout",
     "output_type": "stream",
     "text": [
      "3.0\n"
     ]
    }
   ],
   "source": [
    "#We can calculate percentiles with the following code\n",
    "import numpy as np\n",
    "a = np.array([1,2,3,4,5])\n",
    "p = np.percentile(a, 50) #Returns 50th percentile, e.g. median\n",
    "print(p)"
   ]
  },
  {
   "cell_type": "code",
   "execution_count": 28,
   "metadata": {},
   "outputs": [
    {
     "data": {
      "text/plain": [
       "111111111111111111111111111111111111111111111111111321222222222222222222222222222222222222222222222222222222222222222222222222222222222222222222222222222222222222222222222222222222222222222222222222222222221111111111111111111111111111111111111111111111111111111111111111111111111111111111111111111111111111111111111111111111111111111111111111111111111111111111111111111111111111111111111111111111111111111111111111111111111111111111111111111111111111111111111111111111111111111111111111111111111111111111111111111111111111111111111"
      ]
     },
     "execution_count": 28,
     "metadata": {},
     "output_type": "execute_result"
    }
   ],
   "source": [
    "a = 111111111111111111111111111111111111111111111111111321222222222222222222222222222222222222222222222222222222222222222222222222222222222222222222222222222222222222222222222222222222222222222222222222222222221111111111111111111111111111111111111111111111111111111111111111111111111111111111111111111111111111111111111111111111111111111111111111111111111111111111111111111111111111111111111111111111111111111111111111111111111111111111111111111111111111111111111111111111111111111111111111111111111111111111111111111111111111111111111\n",
    "a"
   ]
  },
  {
   "cell_type": "code",
   "execution_count": 29,
   "metadata": {},
   "outputs": [
    {
     "data": {
      "text/plain": [
       "'fklfmdslfdmfklsdmfkldmfksmfdlskdsfsdnsjdfksndfsdnfksdnfjkdsfjfsdnkfjdsnfkjanuiefwamfnusikfnsdkjnfwiuekefnsemfueskfunuwekdsafiaskdfjkfdis'"
      ]
     },
     "execution_count": 29,
     "metadata": {},
     "output_type": "execute_result"
    }
   ],
   "source": [
    "\n",
    "b = 'fklfmdslfdmfklsdmfkldmfksmfdlskdsfsdnsjdfksndfsdnfksdnfjkdsfjfsdnkfjdsnfkjanuiefwamfnusikfnsdkjnfwiuekefnsemfueskfunuwekdsafiaskdfjkfdis'\n",
    "\n",
    "b"
   ]
  },
  {
   "cell_type": "code",
   "execution_count": 31,
   "metadata": {},
   "outputs": [],
   "source": [
    "abc = 1,000,000\n",
    "a,b,c = 1000, 2000, 3000\n",
    "a_b_c = 1,000,000"
   ]
  },
  {
   "cell_type": "code",
   "execution_count": 32,
   "metadata": {},
   "outputs": [
    {
     "ename": "SyntaxError",
     "evalue": "invalid syntax (<ipython-input-32-fd5f99168ec0>, line 1)",
     "output_type": "error",
     "traceback": [
      "\u001b[0;36m  File \u001b[0;32m\"<ipython-input-32-fd5f99168ec0>\"\u001b[0;36m, line \u001b[0;32m1\u001b[0m\n\u001b[0;31m    a b c = 1000 2000 3000\u001b[0m\n\u001b[0m      ^\u001b[0m\n\u001b[0;31mSyntaxError\u001b[0m\u001b[0;31m:\u001b[0m invalid syntax\n"
     ]
    }
   ],
   "source": [
    " a b c = 1000 2000 3000"
   ]
  },
  {
   "cell_type": "code",
   "execution_count": 36,
   "metadata": {},
   "outputs": [
    {
     "name": "stdout",
     "output_type": "stream",
     "text": [
      "<class 'datetime.datetime'>\n",
      "2020-11-13 10:48:42.456950\n",
      "2020-11-13\n"
     ]
    }
   ],
   "source": [
    "from datetime import datetime\n",
    "from datetime import date\n",
    "\n",
    "datetime.today()\n",
    "\n",
    "today = datetime.today()\n",
    "print(type(today))\n",
    "print(today)\n",
    "\n",
    "todaydate = date.today()\n",
    "print(todaydate)"
   ]
  },
  {
   "cell_type": "code",
   "execution_count": 38,
   "metadata": {},
   "outputs": [
    {
     "data": {
      "text/plain": [
       "11"
      ]
     },
     "execution_count": 38,
     "metadata": {},
     "output_type": "execute_result"
    }
   ],
   "source": [
    "todaydate.month"
   ]
  },
  {
   "cell_type": "code",
   "execution_count": 39,
   "metadata": {},
   "outputs": [
    {
     "data": {
      "text/plain": [
       "13"
      ]
     },
     "execution_count": 39,
     "metadata": {},
     "output_type": "execute_result"
    }
   ],
   "source": [
    "todaydate.day"
   ]
  },
  {
   "cell_type": "code",
   "execution_count": 41,
   "metadata": {},
   "outputs": [
    {
     "name": "stdout",
     "output_type": "stream",
     "text": [
      "4\n",
      "36000\n"
     ]
    }
   ],
   "source": [
    "from datetime import datetime\n",
    "from datetime import timedelta\n",
    "\n",
    "t = timedelta(days=4, hours=10)\n",
    "\n",
    "print(t.days)\n",
    "\n",
    "print(t.seconds)\n"
   ]
  },
  {
   "cell_type": "code",
   "execution_count": 25,
   "metadata": {},
   "outputs": [
    {
     "name": "stdout",
     "output_type": "stream",
     "text": [
      "enter st454\n",
      "polin\n"
     ]
    }
   ],
   "source": [
    "strin = int(input('enter st'))\n",
    "rev = str(strin)\n",
    "rev1 = rev[::-1]\n",
    "if rev == rev1:\n",
    "    print('polin')\n",
    "else: \n",
    "    print('not')"
   ]
  },
  {
   "cell_type": "code",
   "execution_count": null,
   "metadata": {},
   "outputs": [],
   "source": []
  }
 ],
 "metadata": {
  "kernelspec": {
   "display_name": "Python 3",
   "language": "python",
   "name": "python3"
  },
  "language_info": {
   "codemirror_mode": {
    "name": "ipython",
    "version": 3
   },
   "file_extension": ".py",
   "mimetype": "text/x-python",
   "name": "python",
   "nbconvert_exporter": "python",
   "pygments_lexer": "ipython3",
   "version": "3.7.4"
  }
 },
 "nbformat": 4,
 "nbformat_minor": 2
}
