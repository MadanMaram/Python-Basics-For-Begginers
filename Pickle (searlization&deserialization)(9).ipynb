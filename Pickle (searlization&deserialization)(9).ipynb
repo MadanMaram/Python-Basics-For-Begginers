{
 "cells": [
  {
   "cell_type": "markdown",
   "metadata": {},
   "source": [
    "## Serialization  &  Deserialization\n",
    "The process of transforming from format A to format B is called Serialization and B to A called Desrialization"
   ]
  },
  {
   "cell_type": "markdown",
   "metadata": {},
   "source": [
    "- serialization is the process of transforming python object into byte stream.\n",
    "- de serialization is opposite to serialization\n",
    " \n",
    "   - pickling: is the process of of a python object hierarchy is converted into a byte stream.\n",
    "   "
   ]
  },
  {
   "cell_type": "code",
   "execution_count": 1,
   "metadata": {},
   "outputs": [
    {
     "name": "stdout",
     "output_type": "stream",
     "text": [
      "{'id': 12345, 'name': 'obama', 'salary': 9000000.0}\n"
     ]
    }
   ],
   "source": [
    "\n",
    "import pickle\n",
    "d = {}\n",
    "d['id'] = 12345\n",
    "d['name'] = 'obama'\n",
    "d['salary'] = 9000000.0\n",
    "print(d)"
   ]
  },
  {
   "cell_type": "markdown",
   "metadata": {},
   "source": [
    "- dumps() function converts python data structure into a binary string format"
   ]
  },
  {
   "cell_type": "code",
   "execution_count": 3,
   "metadata": {},
   "outputs": [
    {
     "name": "stdout",
     "output_type": "stream",
     "text": [
      "b'\\x80\\x03}q\\x00(X\\x02\\x00\\x00\\x00idq\\x01M90X\\x04\\x00\\x00\\x00nameq\\x02X\\x05\\x00\\x00\\x00obamaq\\x03X\\x06\\x00\\x00\\x00salaryq\\x04GAa*\\x88\\x00\\x00\\x00\\x00u.'\n"
     ]
    }
   ],
   "source": [
    "bs = pickle.dumps(d)\n",
    "print(bs)"
   ]
  },
  {
   "cell_type": "code",
   "execution_count": 4,
   "metadata": {},
   "outputs": [],
   "source": [
    "#writing into a file in binary format('wb' mode)\n",
    "f = open('employ.pickle','wb')\n",
    "f.write(bs)\n",
    "f.close()"
   ]
  },
  {
   "cell_type": "code",
   "execution_count": 7,
   "metadata": {},
   "outputs": [
    {
     "name": "stdout",
     "output_type": "stream",
     "text": [
      "�\u0003}q\u0000(X\u0002\u0000\u0000\u0000idq\u0001M90X\u0004\u0000\u0000\u0000nameq\u0002X\u0005\u0000\u0000\u0000obamaq\u0003X\u0006\u0000\u0000\u0000salaryq\u0004GAa*�\u0000\u0000\u0000\u0000u."
     ]
    }
   ],
   "source": [
    "#checking the file content\n",
    "!cat employ.pickle"
   ]
  },
  {
   "cell_type": "markdown",
   "metadata": {},
   "source": [
    "- loads() function is used to load data from a pickle file "
   ]
  },
  {
   "cell_type": "code",
   "execution_count": 10,
   "metadata": {},
   "outputs": [
    {
     "name": "stdout",
     "output_type": "stream",
     "text": [
      "{'id': 12345, 'name': 'obama', 'salary': 9000000.0}\n"
     ]
    }
   ],
   "source": [
    "#reading content from a pickle file\n",
    "f = open('employ.pickle','rb')\n",
    "a = f.read()\n",
    "d1 = pickle.loads(a)\n",
    "print(d1)\n",
    "f.close()"
   ]
  },
  {
   "cell_type": "code",
   "execution_count": 11,
   "metadata": {},
   "outputs": [],
   "source": [
    "#creating an intermediatory binary string is not required all thetime. we may want to directly write into a file\n",
    "d = {}\n",
    "d['id'] = 12345\n",
    "d['name'] = 'obama'\n",
    "d['salary'] = 9000000.0\n",
    "\n",
    "f = open('employee.pickle', 'wb')\n",
    "pickle.dump(d,f, pickle.HIGHEST_PROTOCOL)\n",
    "f.close()"
   ]
  },
  {
   "cell_type": "code",
   "execution_count": 12,
   "metadata": {},
   "outputs": [
    {
     "name": "stdout",
     "output_type": "stream",
     "text": [
      "�\u0004�.\u0000\u0000\u0000\u0000\u0000\u0000\u0000}�(�\u0002id�M90�\u0004name��\u0005obama��\u0006salary�GAa*�\u0000\u0000\u0000\u0000u."
     ]
    }
   ],
   "source": [
    "#pickle.HIGHEST_PROTOCOL to be used in pickling protocol\n",
    "!cat employee.pickle"
   ]
  },
  {
   "cell_type": "markdown",
   "metadata": {},
   "source": [
    "#### using load to unpickle back to original datastructure"
   ]
  },
  {
   "cell_type": "raw",
   "metadata": {},
   "source": [
    "d = {}\n",
    "with open('employeee.pickle', 'rb') as f:\n",
    "    d = pickle.load(f)\n",
    "print(d)"
   ]
  },
  {
   "cell_type": "markdown",
   "metadata": {},
   "source": [
    "## XML\n",
    "\n",
    "XML is another popular format used mainly in web based data exchange scenorios. XML is an hierarchical data format, and the most natural way to represent it is with a tree"
   ]
  },
  {
   "cell_type": "markdown",
   "metadata": {},
   "source": [
    "- xml.etree.ElementTree\n",
    "- ET.Element()"
   ]
  },
  {
   "cell_type": "code",
   "execution_count": null,
   "metadata": {},
   "outputs": [],
   "source": []
  },
  {
   "cell_type": "code",
   "execution_count": null,
   "metadata": {},
   "outputs": [],
   "source": []
  },
  {
   "cell_type": "code",
   "execution_count": null,
   "metadata": {},
   "outputs": [],
   "source": []
  },
  {
   "cell_type": "code",
   "execution_count": null,
   "metadata": {},
   "outputs": [],
   "source": []
  },
  {
   "cell_type": "code",
   "execution_count": null,
   "metadata": {},
   "outputs": [],
   "source": []
  },
  {
   "cell_type": "code",
   "execution_count": null,
   "metadata": {},
   "outputs": [],
   "source": []
  }
 ],
 "metadata": {
  "kernelspec": {
   "display_name": "Python 3",
   "language": "python",
   "name": "python3"
  },
  "language_info": {
   "codemirror_mode": {
    "name": "ipython",
    "version": 3
   },
   "file_extension": ".py",
   "mimetype": "text/x-python",
   "name": "python",
   "nbconvert_exporter": "python",
   "pygments_lexer": "ipython3",
   "version": "3.7.4"
  }
 },
 "nbformat": 4,
 "nbformat_minor": 2
}
