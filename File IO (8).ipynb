{
 "cells": [
  {
   "cell_type": "markdown",
   "metadata": {},
   "source": [
    "- r -- read mode\n",
    "\n",
    "- w -- write mode\n",
    "\n",
    "- a -- append mode"
   ]
  },
  {
   "cell_type": "markdown",
   "metadata": {},
   "source": [
    "## file creation and writings"
   ]
  },
  {
   "cell_type": "code",
   "execution_count": 1,
   "metadata": {},
   "outputs": [],
   "source": [
    "f = open('abc.txt', 'w')\n",
    "f.write(\"once upon a time in india, there was a king called Rama.\")\n",
    "f.close()\n",
    "#f is the file object, which holds a buffer in ram, which will siync hard disk later"
   ]
  },
  {
   "cell_type": "code",
   "execution_count": 4,
   "metadata": {},
   "outputs": [
    {
     "name": "stdout",
     "output_type": "stream",
     "text": [
      "once upon a time in india, there was a king called Rama."
     ]
    }
   ],
   "source": [
    "!cat abc.txt"
   ]
  },
  {
   "cell_type": "code",
   "execution_count": 8,
   "metadata": {},
   "outputs": [
    {
     "name": "stdout",
     "output_type": "stream",
     "text": [
      "<built-in function getcwd>\n"
     ]
    }
   ],
   "source": [
    "import os\n",
    "print(os.getcwd)# this function gives you current working directory"
   ]
  },
  {
   "cell_type": "markdown",
   "metadata": {},
   "source": [
    "## reading an existing file,"
   ]
  },
  {
   "cell_type": "code",
   "execution_count": 10,
   "metadata": {},
   "outputs": [
    {
     "name": "stdout",
     "output_type": "stream",
     "text": [
      "once upon a time in india, there was a king called Rama.\n"
     ]
    }
   ],
   "source": [
    "f = open('abc.txt', 'r')\n",
    "s = f.read()\n",
    "print(s)\n",
    "f.close()"
   ]
  },
  {
   "cell_type": "code",
   "execution_count": 17,
   "metadata": {},
   "outputs": [
    {
     "name": "stdout",
     "output_type": "stream",
     "text": [
      "once upo\n"
     ]
    }
   ],
   "source": [
    "f = open('abc.txt', 'r')\n",
    "s = f.read(8)\n",
    "print(s)\n",
    "f.close()"
   ]
  },
  {
   "cell_type": "markdown",
   "metadata": {},
   "source": [
    "## writing multi line text"
   ]
  },
  {
   "cell_type": "code",
   "execution_count": 20,
   "metadata": {},
   "outputs": [],
   "source": [
    "f = open('abc.txt', 'w')\n",
    "f.write(\"\"\"once upon a time in india, there was a king called Rama\n",
    "\n",
    "rama was kind hearted and brave. he was went for 14 years of aranyavasam.\n",
    "rama killed ravana, because of sita\"\"\")\n",
    "\n",
    "f.close()"
   ]
  },
  {
   "cell_type": "code",
   "execution_count": 21,
   "metadata": {},
   "outputs": [
    {
     "name": "stdout",
     "output_type": "stream",
     "text": [
      "once upon a time in india, there was a king called Rama\r\n",
      "\r\n",
      "rama was kind hearted and brave. he was went for 14 years of aranyavasam.\r\n",
      "rama killed ravana, because of sita"
     ]
    }
   ],
   "source": [
    "#check the file content\n",
    "!cat abc.txt"
   ]
  },
  {
   "cell_type": "markdown",
   "metadata": {},
   "source": [
    "## reading text into a list of strings"
   ]
  },
  {
   "cell_type": "code",
   "execution_count": 23,
   "metadata": {},
   "outputs": [
    {
     "name": "stdout",
     "output_type": "stream",
     "text": [
      "['once upon a time in india, there was a king called Rama\\n', '\\n', 'rama was kind hearted and brave. he was went for 14 years of aranyavasam.\\n', 'rama killed ravana, because of sita']\n"
     ]
    }
   ],
   "source": [
    "f = open('abc.txt','r')\n",
    "l = f.readlines()\n",
    "print(l)\n",
    "f.close()"
   ]
  }
 ],
 "metadata": {
  "kernelspec": {
   "display_name": "Python 3",
   "language": "python",
   "name": "python3"
  },
  "language_info": {
   "codemirror_mode": {
    "name": "ipython",
    "version": 3
   },
   "file_extension": ".py",
   "mimetype": "text/x-python",
   "name": "python",
   "nbconvert_exporter": "python",
   "pygments_lexer": "ipython3",
   "version": "3.7.4"
  }
 },
 "nbformat": 4,
 "nbformat_minor": 2
}
